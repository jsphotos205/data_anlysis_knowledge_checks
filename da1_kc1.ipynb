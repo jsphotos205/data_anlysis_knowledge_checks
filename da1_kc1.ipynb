{
 "cells": [
  {
   "attachments": {},
   "cell_type": "markdown",
   "metadata": {},
   "source": [
    "Your Instructions:\n",
    "\n",
    "To complete the first knowledge check, do the following:Create a GitHub repo called \"data_1_checks\". You will upload ALL knowledge checks to this repo in the future.Send that link to your mentor so they can check it when you finish the assignment.Make a .py (or .ipynb) file that contains the following (your choice of editor does not matter!):\n",
    "a statement that prints \"hello world!\"\n",
    "a list populated with several values. They can be strings / integers / floats etc. Then, print() one of those values either to the prompt or in a cell (if using Jupyter Notebook)\n",
    "a dictionary populated with two keys and two values. Print one of the values just like you did above.\n",
    "a tuple with 4 values. Print one of them.\n",
    "Commit your changes.Push your changes to your repo and notify your mentor!\n",
    "\n",
    "This project will test your knowledge of basic Python data structures. Do not be afraid to Google the above topics and read the Python documentation about them - I'm intentionally not linking the documentation so you have to go search for it if you need it."
   ]
  },
  {
   "cell_type": "code",
   "execution_count": null,
   "metadata": {},
   "outputs": [],
   "source": [
    "print('hello world!')"
   ]
  },
  {
   "cell_type": "code",
   "execution_count": 3,
   "metadata": {},
   "outputs": [
    {
     "name": "stdout",
     "output_type": "stream",
     "text": [
      "2059072266\n"
     ]
    }
   ],
   "source": [
    "contact = {\n",
    "    'name': 'John Sloan',\n",
    "    'number': 2059072266,\n",
    "    'address': '215 Olinger Lane',\n",
    "    'city': 'Zoe, KY',\n",
    "    'height': 5.11\n",
    "}\n",
    "print(contact['number'])"
   ]
  },
  {
   "cell_type": "code",
   "execution_count": 2,
   "metadata": {},
   "outputs": [
    {
     "name": "stdout",
     "output_type": "stream",
     "text": [
      "coding\n"
     ]
    }
   ],
   "source": [
    "intrest = [\"rock climbing\", \"art\", \"disc golf\", \"coding\"]\n",
    "#want to print coding as intrest selection:\n",
    "print(intrest[3])"
   ]
  },
  {
   "cell_type": "code",
   "execution_count": 12,
   "metadata": {},
   "outputs": [
    {
     "name": "stdout",
     "output_type": "stream",
     "text": [
      "['intrest', 'phone number', 'location', 'height']\n"
     ]
    }
   ],
   "source": [
    "#this shows a tuple with a mix of information: a string, integer, string, float, and a list compiled of strings, these are all immutable.\n",
    "a_mixture_of_information = ('rock climber', 2059072266, 'Zoe,KY', 5.11,['intrest', 'phone number', 'location', 'height'])\n",
    "#want to print the list in the tuple\n",
    "print(a_mixture_of_information[4])"
   ]
  }
 ],
 "metadata": {
  "kernelspec": {
   "display_name": "Python 3",
   "language": "python",
   "name": "python3"
  },
  "language_info": {
   "codemirror_mode": {
    "name": "ipython",
    "version": 3
   },
   "file_extension": ".py",
   "mimetype": "text/x-python",
   "name": "python",
   "nbconvert_exporter": "python",
   "pygments_lexer": "ipython3",
   "version": "3.11.1"
  },
  "orig_nbformat": 4,
  "vscode": {
   "interpreter": {
    "hash": "aee8b7b246df8f9039afb4144a1f6fd8d2ca17a180786b69acc140d282b71a49"
   }
  }
 },
 "nbformat": 4,
 "nbformat_minor": 2
}
