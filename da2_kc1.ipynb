{
 "cells": [
  {
   "attachments": {},
   "cell_type": "markdown",
   "metadata": {},
   "source": [
    "- Pull in data from an API.\n",
    "- Find and print TWO descriptive stats about your data.\n",
    "    - mean()\n",
    "    - sum()\n",
    "    - etc\n",
    "- Write a query in Pandas to select a particular set of your data.\n",
    "    - use a mask or .query()\n",
    "        - This could be 'show me every row where HTTPS=False' or anything else\n",
    "- Select and print the SECOND and THIRD columns of your data frame\n",
    "- Select and print the FIRST 4 rows of your data frame\n",
    "    - .head(4)\n",
    "- Commit your changes\n",
    "- Push your changes to your repo and notify your mentor."
   ]
  },
  {
   "cell_type": "code",
   "execution_count": 2,
   "metadata": {},
   "outputs": [],
   "source": [
    "import requests\n",
    "import pandas as pd"
   ]
  },
  {
   "cell_type": "code",
   "execution_count": 45,
   "metadata": {},
   "outputs": [
    {
     "name": "stderr",
     "output_type": "stream",
     "text": [
      "/var/folders/02/lzvd5scj4zb274qzdzm7r7p80000gn/T/ipykernel_65506/222611618.py:4: FutureWarning: Dropping of nuisance columns in DataFrame reductions (with 'numeric_only=None') is deprecated; in a future version this will raise TypeError.  Select only valid columns before calling the reduction.\n",
      "  df.mean()['date_start']\n"
     ]
    },
    {
     "data": {
      "text/plain": [
       "1750.381443298969"
      ]
     },
     "execution_count": 45,
     "metadata": {},
     "output_type": "execute_result"
    }
   ],
   "source": [
    "response = requests.get('https://api.artic.edu/api/v1/artworks?page=1&limit=100')\n",
    "data = response.json()['data']\n",
    "df = pd.DataFrame(data=data)"
   ]
  },
  {
   "cell_type": "code",
   "execution_count": 46,
   "metadata": {},
   "outputs": [
    {
     "data": {
      "text/plain": [
       "Index(['id', 'api_model', 'api_link', 'is_boosted', 'title', 'alt_titles',\n",
       "       'thumbnail', 'main_reference_number', 'has_not_been_viewed_much',\n",
       "       'boost_rank', 'date_start', 'date_end', 'date_display',\n",
       "       'date_qualifier_title', 'date_qualifier_id', 'artist_display',\n",
       "       'place_of_origin', 'dimensions', 'dimensions_detail', 'medium_display',\n",
       "       'inscriptions', 'credit_line', 'catalogue_display',\n",
       "       'publication_history', 'exhibition_history', 'provenance_text',\n",
       "       'edition', 'publishing_verification_level', 'internal_department_id',\n",
       "       'fiscal_year', 'fiscal_year_deaccession', 'is_public_domain',\n",
       "       'is_zoomable', 'max_zoom_window_size', 'copyright_notice',\n",
       "       'has_multimedia_resources', 'has_educational_resources',\n",
       "       'has_advanced_imaging', 'colorfulness', 'color', 'latitude',\n",
       "       'longitude', 'latlon', 'is_on_view', 'on_loan_display', 'gallery_title',\n",
       "       'gallery_id', 'artwork_type_title', 'artwork_type_id',\n",
       "       'department_title', 'department_id', 'artist_id', 'artist_title',\n",
       "       'alt_artist_ids', 'artist_ids', 'artist_titles', 'category_ids',\n",
       "       'category_titles', 'term_titles', 'style_id', 'style_title',\n",
       "       'alt_style_ids', 'style_ids', 'style_titles', 'classification_id',\n",
       "       'classification_title', 'alt_classification_ids', 'classification_ids',\n",
       "       'classification_titles', 'subject_id', 'alt_subject_ids', 'subject_ids',\n",
       "       'subject_titles', 'material_id', 'alt_material_ids', 'material_ids',\n",
       "       'material_titles', 'technique_id', 'alt_technique_ids', 'technique_ids',\n",
       "       'technique_titles', 'theme_titles', 'image_id', 'alt_image_ids',\n",
       "       'document_ids', 'sound_ids', 'video_ids', 'text_ids', 'section_ids',\n",
       "       'section_titles', 'site_ids', 'suggest_autocomplete_all',\n",
       "       'source_updated_at', 'updated_at', 'timestamp',\n",
       "       'suggest_autocomplete_boosted'],\n",
       "      dtype='object')"
      ]
     },
     "execution_count": 46,
     "metadata": {},
     "output_type": "execute_result"
    }
   ],
   "source": [
    "df.columns"
   ]
  },
  {
   "cell_type": "code",
   "execution_count": 47,
   "metadata": {},
   "outputs": [
    {
     "name": "stderr",
     "output_type": "stream",
     "text": [
      "/var/folders/02/lzvd5scj4zb274qzdzm7r7p80000gn/T/ipykernel_65506/3721927217.py:1: FutureWarning: Dropping of nuisance columns in DataFrame reductions (with 'numeric_only=None') is deprecated; in a future version this will raise TypeError.  Select only valid columns before calling the reduction.\n",
      "  df.mean()['date_start']\n"
     ]
    },
    {
     "data": {
      "text/plain": [
       "1750.381443298969"
      ]
     },
     "execution_count": 47,
     "metadata": {},
     "output_type": "execute_result"
    }
   ],
   "source": [
    "df.mean()['date_start']"
   ]
  },
  {
   "cell_type": "code",
   "execution_count": 52,
   "metadata": {},
   "outputs": [
    {
     "data": {
      "text/plain": [
       "count                                                    95\n",
       "unique                                                   95\n",
       "top       {'h': 45, 'l': 47, 's': 79, 'percentage': 0.00...\n",
       "freq                                                      1\n",
       "Name: color, dtype: object"
      ]
     },
     "execution_count": 52,
     "metadata": {},
     "output_type": "execute_result"
    }
   ],
   "source": [
    "df['color'].describe()"
   ]
  },
  {
   "cell_type": "code",
   "execution_count": null,
   "metadata": {},
   "outputs": [],
   "source": []
  }
 ],
 "metadata": {
  "kernelspec": {
   "display_name": "base",
   "language": "python",
   "name": "python3"
  },
  "language_info": {
   "codemirror_mode": {
    "name": "ipython",
    "version": 3
   },
   "file_extension": ".py",
   "mimetype": "text/x-python",
   "name": "python",
   "nbconvert_exporter": "python",
   "pygments_lexer": "ipython3",
   "version": "3.9.13"
  },
  "orig_nbformat": 4
 },
 "nbformat": 4,
 "nbformat_minor": 2
}
