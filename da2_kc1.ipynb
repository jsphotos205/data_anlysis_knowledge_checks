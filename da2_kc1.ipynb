{
 "cells": [
  {
   "cell_type": "code",
   "execution_count": 90,
   "metadata": {},
   "outputs": [],
   "source": [
    "import requests\n",
    "import pandas as pd"
   ]
  },
  {
   "attachments": {},
   "cell_type": "markdown",
   "metadata": {},
   "source": [
    "## Pull in data from an API.\n",
    "- using fakerapi to generate fake data of a product for illustration puroposes"
   ]
  },
  {
   "cell_type": "code",
   "execution_count": 91,
   "metadata": {},
   "outputs": [
    {
     "name": "stdout",
     "output_type": "stream",
     "text": [
      "200\n"
     ]
    }
   ],
   "source": [
    "url = 'https://fakerapi.it/api/v1/products?_price_min=9.99&_price_max=10000.00&_quantity=15&_taxes=6'\n",
    "response = requests.get(url)\n",
    "print(response.status_code)"
   ]
  },
  {
   "cell_type": "code",
   "execution_count": 92,
   "metadata": {},
   "outputs": [],
   "source": [
    "data = response.json()['data']\n",
    "df = pd.DataFrame(data=data)"
   ]
  },
  {
   "cell_type": "code",
   "execution_count": 93,
   "metadata": {},
   "outputs": [
    {
     "data": {
      "text/html": [
       "<div>\n",
       "<style scoped>\n",
       "    .dataframe tbody tr th:only-of-type {\n",
       "        vertical-align: middle;\n",
       "    }\n",
       "\n",
       "    .dataframe tbody tr th {\n",
       "        vertical-align: top;\n",
       "    }\n",
       "\n",
       "    .dataframe thead th {\n",
       "        text-align: right;\n",
       "    }\n",
       "</style>\n",
       "<table border=\"1\" class=\"dataframe\">\n",
       "  <thead>\n",
       "    <tr style=\"text-align: right;\">\n",
       "      <th></th>\n",
       "      <th>id</th>\n",
       "      <th>name</th>\n",
       "      <th>description</th>\n",
       "      <th>ean</th>\n",
       "      <th>upc</th>\n",
       "      <th>image</th>\n",
       "      <th>images</th>\n",
       "      <th>net_price</th>\n",
       "      <th>taxes</th>\n",
       "      <th>price</th>\n",
       "      <th>categories</th>\n",
       "      <th>tags</th>\n",
       "    </tr>\n",
       "  </thead>\n",
       "  <tbody>\n",
       "    <tr>\n",
       "      <th>0</th>\n",
       "      <td>1</td>\n",
       "      <td>Rem eaque ullam itaque.</td>\n",
       "      <td>Quas sit eligendi nobis aut optio. At est veri...</td>\n",
       "      <td>8128201015615</td>\n",
       "      <td>454083736649</td>\n",
       "      <td>http://placeimg.com/640/480/tech</td>\n",
       "      <td>[{'title': 'Ut at vel temporibus ducimus.', 'd...</td>\n",
       "      <td>5554.87</td>\n",
       "      <td>6</td>\n",
       "      <td>5888.16</td>\n",
       "      <td>[8, 9, 1]</td>\n",
       "      <td>[dolore, natus, et, sint, est, possimus, verit...</td>\n",
       "    </tr>\n",
       "    <tr>\n",
       "      <th>1</th>\n",
       "      <td>2</td>\n",
       "      <td>Eum et corrupti quos.</td>\n",
       "      <td>Quia sed beatae ut. Impedit dolor veritatis ip...</td>\n",
       "      <td>5821533640588</td>\n",
       "      <td>009581255878</td>\n",
       "      <td>http://placeimg.com/640/480/tech</td>\n",
       "      <td>[{'title': 'Quae ea dolor optio quisquam.', 'd...</td>\n",
       "      <td>1872.51</td>\n",
       "      <td>6</td>\n",
       "      <td>1984.86</td>\n",
       "      <td>[2, 6, 7, 3, 8]</td>\n",
       "      <td>[perferendis]</td>\n",
       "    </tr>\n",
       "    <tr>\n",
       "      <th>2</th>\n",
       "      <td>3</td>\n",
       "      <td>Id nostrum vitae enim.</td>\n",
       "      <td>Dolore et tempore sunt non voluptatem eos sint...</td>\n",
       "      <td>1280217857188</td>\n",
       "      <td>091876648056</td>\n",
       "      <td>http://placeimg.com/640/480/tech</td>\n",
       "      <td>[{'title': 'Ea ut itaque maiores.', 'descripti...</td>\n",
       "      <td>8777.88</td>\n",
       "      <td>6</td>\n",
       "      <td>9304.55</td>\n",
       "      <td>[1, 5, 6]</td>\n",
       "      <td>[aperiam, nulla, et, et]</td>\n",
       "    </tr>\n",
       "    <tr>\n",
       "      <th>3</th>\n",
       "      <td>4</td>\n",
       "      <td>Facilis fuga qui ex et saepe.</td>\n",
       "      <td>Omnis quibusdam veritatis excepturi illo nobis...</td>\n",
       "      <td>0635799408975</td>\n",
       "      <td>697593232502</td>\n",
       "      <td>http://placeimg.com/640/480/tech</td>\n",
       "      <td>[{'title': 'A dolores nulla magnam ut.', 'desc...</td>\n",
       "      <td>7686.53</td>\n",
       "      <td>6</td>\n",
       "      <td>8147.72</td>\n",
       "      <td>[2]</td>\n",
       "      <td>[repellendus, et, sed]</td>\n",
       "    </tr>\n",
       "    <tr>\n",
       "      <th>4</th>\n",
       "      <td>5</td>\n",
       "      <td>Aperiam quibusdam vel odit.</td>\n",
       "      <td>Hic numquam sunt nam sunt autem sed. Eveniet p...</td>\n",
       "      <td>4923162988824</td>\n",
       "      <td>856083867389</td>\n",
       "      <td>http://placeimg.com/640/480/tech</td>\n",
       "      <td>[{'title': 'Vero sint quasi ut et.', 'descript...</td>\n",
       "      <td>7557.46</td>\n",
       "      <td>6</td>\n",
       "      <td>8010.91</td>\n",
       "      <td>[2, 9]</td>\n",
       "      <td>[veritatis, laudantium, sit, pariatur, dolorum]</td>\n",
       "    </tr>\n",
       "  </tbody>\n",
       "</table>\n",
       "</div>"
      ],
      "text/plain": [
       "   id                           name  \\\n",
       "0   1        Rem eaque ullam itaque.   \n",
       "1   2          Eum et corrupti quos.   \n",
       "2   3         Id nostrum vitae enim.   \n",
       "3   4  Facilis fuga qui ex et saepe.   \n",
       "4   5    Aperiam quibusdam vel odit.   \n",
       "\n",
       "                                         description            ean  \\\n",
       "0  Quas sit eligendi nobis aut optio. At est veri...  8128201015615   \n",
       "1  Quia sed beatae ut. Impedit dolor veritatis ip...  5821533640588   \n",
       "2  Dolore et tempore sunt non voluptatem eos sint...  1280217857188   \n",
       "3  Omnis quibusdam veritatis excepturi illo nobis...  0635799408975   \n",
       "4  Hic numquam sunt nam sunt autem sed. Eveniet p...  4923162988824   \n",
       "\n",
       "            upc                             image  \\\n",
       "0  454083736649  http://placeimg.com/640/480/tech   \n",
       "1  009581255878  http://placeimg.com/640/480/tech   \n",
       "2  091876648056  http://placeimg.com/640/480/tech   \n",
       "3  697593232502  http://placeimg.com/640/480/tech   \n",
       "4  856083867389  http://placeimg.com/640/480/tech   \n",
       "\n",
       "                                              images  net_price taxes  \\\n",
       "0  [{'title': 'Ut at vel temporibus ducimus.', 'd...    5554.87     6   \n",
       "1  [{'title': 'Quae ea dolor optio quisquam.', 'd...    1872.51     6   \n",
       "2  [{'title': 'Ea ut itaque maiores.', 'descripti...    8777.88     6   \n",
       "3  [{'title': 'A dolores nulla magnam ut.', 'desc...    7686.53     6   \n",
       "4  [{'title': 'Vero sint quasi ut et.', 'descript...    7557.46     6   \n",
       "\n",
       "     price       categories                                               tags  \n",
       "0  5888.16        [8, 9, 1]  [dolore, natus, et, sint, est, possimus, verit...  \n",
       "1  1984.86  [2, 6, 7, 3, 8]                                      [perferendis]  \n",
       "2  9304.55        [1, 5, 6]                           [aperiam, nulla, et, et]  \n",
       "3  8147.72              [2]                             [repellendus, et, sed]  \n",
       "4  8010.91           [2, 9]    [veritatis, laudantium, sit, pariatur, dolorum]  "
      ]
     },
     "execution_count": 93,
     "metadata": {},
     "output_type": "execute_result"
    }
   ],
   "source": [
    "df.head()"
   ]
  },
  {
   "attachments": {},
   "cell_type": "markdown",
   "metadata": {},
   "source": [
    "## Find and print TWO descriptive statistics about your data\n",
    "- dtypes\n",
    "- .mean()\n",
    "- .describe()\n",
    "\n",
    "had to convert 'price' column to a numeric value for comparison operation"
   ]
  },
  {
   "cell_type": "code",
   "execution_count": 94,
   "metadata": {},
   "outputs": [
    {
     "data": {
      "text/plain": [
       "id               int64\n",
       "name            object\n",
       "description     object\n",
       "ean             object\n",
       "upc             object\n",
       "image           object\n",
       "images          object\n",
       "net_price      float64\n",
       "taxes           object\n",
       "price           object\n",
       "categories      object\n",
       "tags            object\n",
       "dtype: object"
      ]
     },
     "execution_count": 94,
     "metadata": {},
     "output_type": "execute_result"
    }
   ],
   "source": [
    "df.dtypes"
   ]
  },
  {
   "cell_type": "code",
   "execution_count": 95,
   "metadata": {},
   "outputs": [],
   "source": [
    "df['price'] = pd.to_numeric(df['price'])"
   ]
  },
  {
   "cell_type": "code",
   "execution_count": 96,
   "metadata": {},
   "outputs": [
    {
     "data": {
      "text/plain": [
       "id               int64\n",
       "name            object\n",
       "description     object\n",
       "ean             object\n",
       "upc             object\n",
       "image           object\n",
       "images          object\n",
       "net_price      float64\n",
       "taxes           object\n",
       "price          float64\n",
       "categories      object\n",
       "tags            object\n",
       "dtype: object"
      ]
     },
     "execution_count": 96,
     "metadata": {},
     "output_type": "execute_result"
    }
   ],
   "source": [
    "df.dtypes"
   ]
  },
  {
   "cell_type": "code",
   "execution_count": 97,
   "metadata": {},
   "outputs": [
    {
     "data": {
      "text/plain": [
       "4792.717333333333"
      ]
     },
     "execution_count": 97,
     "metadata": {},
     "output_type": "execute_result"
    }
   ],
   "source": [
    "df['net_price'].mean()"
   ]
  },
  {
   "cell_type": "code",
   "execution_count": 98,
   "metadata": {},
   "outputs": [
    {
     "data": {
      "text/plain": [
       "count       15.000000\n",
       "mean      5080.280667\n",
       "std       3161.108531\n",
       "min        406.110000\n",
       "25%       2846.505000\n",
       "50%       4711.340000\n",
       "75%       8079.315000\n",
       "max      10564.020000\n",
       "Name: price, dtype: float64"
      ]
     },
     "execution_count": 98,
     "metadata": {},
     "output_type": "execute_result"
    }
   ],
   "source": [
    "df['price'].describe()"
   ]
  },
  {
   "attachments": {},
   "cell_type": "markdown",
   "metadata": {},
   "source": [
    "## Use of a mask to select a particular set of the data"
   ]
  },
  {
   "cell_type": "code",
   "execution_count": 101,
   "metadata": {},
   "outputs": [
    {
     "data": {
      "text/html": [
       "<div>\n",
       "<style scoped>\n",
       "    .dataframe tbody tr th:only-of-type {\n",
       "        vertical-align: middle;\n",
       "    }\n",
       "\n",
       "    .dataframe tbody tr th {\n",
       "        vertical-align: top;\n",
       "    }\n",
       "\n",
       "    .dataframe thead th {\n",
       "        text-align: right;\n",
       "    }\n",
       "</style>\n",
       "<table border=\"1\" class=\"dataframe\">\n",
       "  <thead>\n",
       "    <tr style=\"text-align: right;\">\n",
       "      <th></th>\n",
       "      <th>id</th>\n",
       "      <th>name</th>\n",
       "      <th>description</th>\n",
       "      <th>ean</th>\n",
       "      <th>upc</th>\n",
       "      <th>image</th>\n",
       "      <th>images</th>\n",
       "      <th>net_price</th>\n",
       "      <th>taxes</th>\n",
       "      <th>price</th>\n",
       "      <th>categories</th>\n",
       "      <th>tags</th>\n",
       "    </tr>\n",
       "  </thead>\n",
       "  <tbody>\n",
       "    <tr>\n",
       "      <th>11</th>\n",
       "      <td>12</td>\n",
       "      <td>Vel qui labore aut quod.</td>\n",
       "      <td>Itaque reprehenderit eius doloribus enim occae...</td>\n",
       "      <td>6042144489611</td>\n",
       "      <td>268414785185</td>\n",
       "      <td>http://placeimg.com/640/480/tech</td>\n",
       "      <td>[{'title': 'Perspiciatis quae est est in.', 'd...</td>\n",
       "      <td>9966.06</td>\n",
       "      <td>6</td>\n",
       "      <td>10564.02</td>\n",
       "      <td>[2, 9, 7, 5, 4, 6, 1, 8]</td>\n",
       "      <td>[quia, dolores, quibusdam, veniam, inventore, ...</td>\n",
       "    </tr>\n",
       "  </tbody>\n",
       "</table>\n",
       "</div>"
      ],
      "text/plain": [
       "    id                      name  \\\n",
       "11  12  Vel qui labore aut quod.   \n",
       "\n",
       "                                          description            ean  \\\n",
       "11  Itaque reprehenderit eius doloribus enim occae...  6042144489611   \n",
       "\n",
       "             upc                             image  \\\n",
       "11  268414785185  http://placeimg.com/640/480/tech   \n",
       "\n",
       "                                               images  net_price taxes  \\\n",
       "11  [{'title': 'Perspiciatis quae est est in.', 'd...    9966.06     6   \n",
       "\n",
       "       price                categories  \\\n",
       "11  10564.02  [2, 9, 7, 5, 4, 6, 1, 8]   \n",
       "\n",
       "                                                 tags  \n",
       "11  [quia, dolores, quibusdam, veniam, inventore, ...  "
      ]
     },
     "execution_count": 101,
     "metadata": {},
     "output_type": "execute_result"
    }
   ],
   "source": [
    "df[df['price'] > 10000]"
   ]
  },
  {
   "attachments": {},
   "cell_type": "markdown",
   "metadata": {},
   "source": [
    "## Select and print the SECOND AND THIRD columns of your data frame."
   ]
  },
  {
   "cell_type": "code",
   "execution_count": 104,
   "metadata": {},
   "outputs": [
    {
     "data": {
      "text/html": [
       "<div>\n",
       "<style scoped>\n",
       "    .dataframe tbody tr th:only-of-type {\n",
       "        vertical-align: middle;\n",
       "    }\n",
       "\n",
       "    .dataframe tbody tr th {\n",
       "        vertical-align: top;\n",
       "    }\n",
       "\n",
       "    .dataframe thead th {\n",
       "        text-align: right;\n",
       "    }\n",
       "</style>\n",
       "<table border=\"1\" class=\"dataframe\">\n",
       "  <thead>\n",
       "    <tr style=\"text-align: right;\">\n",
       "      <th></th>\n",
       "      <th>name</th>\n",
       "      <th>description</th>\n",
       "    </tr>\n",
       "  </thead>\n",
       "  <tbody>\n",
       "    <tr>\n",
       "      <th>0</th>\n",
       "      <td>Rem eaque ullam itaque.</td>\n",
       "      <td>Quas sit eligendi nobis aut optio. At est veri...</td>\n",
       "    </tr>\n",
       "    <tr>\n",
       "      <th>1</th>\n",
       "      <td>Eum et corrupti quos.</td>\n",
       "      <td>Quia sed beatae ut. Impedit dolor veritatis ip...</td>\n",
       "    </tr>\n",
       "    <tr>\n",
       "      <th>2</th>\n",
       "      <td>Id nostrum vitae enim.</td>\n",
       "      <td>Dolore et tempore sunt non voluptatem eos sint...</td>\n",
       "    </tr>\n",
       "    <tr>\n",
       "      <th>3</th>\n",
       "      <td>Facilis fuga qui ex et saepe.</td>\n",
       "      <td>Omnis quibusdam veritatis excepturi illo nobis...</td>\n",
       "    </tr>\n",
       "    <tr>\n",
       "      <th>4</th>\n",
       "      <td>Aperiam quibusdam vel odit.</td>\n",
       "      <td>Hic numquam sunt nam sunt autem sed. Eveniet p...</td>\n",
       "    </tr>\n",
       "    <tr>\n",
       "      <th>5</th>\n",
       "      <td>Et eum vitae in eveniet.</td>\n",
       "      <td>Commodi qui ut accusamus cumque. Dolorem quas ...</td>\n",
       "    </tr>\n",
       "    <tr>\n",
       "      <th>6</th>\n",
       "      <td>Sed quod distinctio totam ut.</td>\n",
       "      <td>At minus quos aspernatur debitis corporis illu...</td>\n",
       "    </tr>\n",
       "    <tr>\n",
       "      <th>7</th>\n",
       "      <td>Perferendis a nemo ut.</td>\n",
       "      <td>Ullam praesentium ut dolores magni quia. Et es...</td>\n",
       "    </tr>\n",
       "    <tr>\n",
       "      <th>8</th>\n",
       "      <td>Facilis aut et nobis dolorem.</td>\n",
       "      <td>Voluptate quia laboriosam sit provident. Commo...</td>\n",
       "    </tr>\n",
       "    <tr>\n",
       "      <th>9</th>\n",
       "      <td>Magni vel quasi velit nihil.</td>\n",
       "      <td>Eligendi et sed repellendus rem. Voluptatem sa...</td>\n",
       "    </tr>\n",
       "    <tr>\n",
       "      <th>10</th>\n",
       "      <td>In ut non enim.</td>\n",
       "      <td>Deleniti ducimus sapiente possimus dolore. Con...</td>\n",
       "    </tr>\n",
       "    <tr>\n",
       "      <th>11</th>\n",
       "      <td>Vel qui labore aut quod.</td>\n",
       "      <td>Itaque reprehenderit eius doloribus enim occae...</td>\n",
       "    </tr>\n",
       "    <tr>\n",
       "      <th>12</th>\n",
       "      <td>Sequi harum ut laudantium.</td>\n",
       "      <td>Qui consequatur voluptas molestiae sunt deseru...</td>\n",
       "    </tr>\n",
       "    <tr>\n",
       "      <th>13</th>\n",
       "      <td>Velit ut qui minus.</td>\n",
       "      <td>Vel repellat sit eaque explicabo. Est aspernat...</td>\n",
       "    </tr>\n",
       "    <tr>\n",
       "      <th>14</th>\n",
       "      <td>Rem sit ullam vel provident.</td>\n",
       "      <td>Ut ab ducimus eum. Omnis numquam quia eius cul...</td>\n",
       "    </tr>\n",
       "  </tbody>\n",
       "</table>\n",
       "</div>"
      ],
      "text/plain": [
       "                             name  \\\n",
       "0         Rem eaque ullam itaque.   \n",
       "1           Eum et corrupti quos.   \n",
       "2          Id nostrum vitae enim.   \n",
       "3   Facilis fuga qui ex et saepe.   \n",
       "4     Aperiam quibusdam vel odit.   \n",
       "5        Et eum vitae in eveniet.   \n",
       "6   Sed quod distinctio totam ut.   \n",
       "7          Perferendis a nemo ut.   \n",
       "8   Facilis aut et nobis dolorem.   \n",
       "9    Magni vel quasi velit nihil.   \n",
       "10                In ut non enim.   \n",
       "11       Vel qui labore aut quod.   \n",
       "12     Sequi harum ut laudantium.   \n",
       "13            Velit ut qui minus.   \n",
       "14   Rem sit ullam vel provident.   \n",
       "\n",
       "                                          description  \n",
       "0   Quas sit eligendi nobis aut optio. At est veri...  \n",
       "1   Quia sed beatae ut. Impedit dolor veritatis ip...  \n",
       "2   Dolore et tempore sunt non voluptatem eos sint...  \n",
       "3   Omnis quibusdam veritatis excepturi illo nobis...  \n",
       "4   Hic numquam sunt nam sunt autem sed. Eveniet p...  \n",
       "5   Commodi qui ut accusamus cumque. Dolorem quas ...  \n",
       "6   At minus quos aspernatur debitis corporis illu...  \n",
       "7   Ullam praesentium ut dolores magni quia. Et es...  \n",
       "8   Voluptate quia laboriosam sit provident. Commo...  \n",
       "9   Eligendi et sed repellendus rem. Voluptatem sa...  \n",
       "10  Deleniti ducimus sapiente possimus dolore. Con...  \n",
       "11  Itaque reprehenderit eius doloribus enim occae...  \n",
       "12  Qui consequatur voluptas molestiae sunt deseru...  \n",
       "13  Vel repellat sit eaque explicabo. Est aspernat...  \n",
       "14  Ut ab ducimus eum. Omnis numquam quia eius cul...  "
      ]
     },
     "execution_count": 104,
     "metadata": {},
     "output_type": "execute_result"
    }
   ],
   "source": [
    "selected_columns = df.iloc[:, 1:3]\n",
    "selected_columns"
   ]
  },
  {
   "attachments": {},
   "cell_type": "markdown",
   "metadata": {},
   "source": [
    "## Select and print the FIRST 4 rows of you data frame."
   ]
  },
  {
   "cell_type": "code",
   "execution_count": 105,
   "metadata": {},
   "outputs": [
    {
     "data": {
      "text/html": [
       "<div>\n",
       "<style scoped>\n",
       "    .dataframe tbody tr th:only-of-type {\n",
       "        vertical-align: middle;\n",
       "    }\n",
       "\n",
       "    .dataframe tbody tr th {\n",
       "        vertical-align: top;\n",
       "    }\n",
       "\n",
       "    .dataframe thead th {\n",
       "        text-align: right;\n",
       "    }\n",
       "</style>\n",
       "<table border=\"1\" class=\"dataframe\">\n",
       "  <thead>\n",
       "    <tr style=\"text-align: right;\">\n",
       "      <th></th>\n",
       "      <th>id</th>\n",
       "      <th>name</th>\n",
       "      <th>description</th>\n",
       "      <th>ean</th>\n",
       "      <th>upc</th>\n",
       "      <th>image</th>\n",
       "      <th>images</th>\n",
       "      <th>net_price</th>\n",
       "      <th>taxes</th>\n",
       "      <th>price</th>\n",
       "      <th>categories</th>\n",
       "      <th>tags</th>\n",
       "    </tr>\n",
       "  </thead>\n",
       "  <tbody>\n",
       "    <tr>\n",
       "      <th>0</th>\n",
       "      <td>1</td>\n",
       "      <td>Rem eaque ullam itaque.</td>\n",
       "      <td>Quas sit eligendi nobis aut optio. At est veri...</td>\n",
       "      <td>8128201015615</td>\n",
       "      <td>454083736649</td>\n",
       "      <td>http://placeimg.com/640/480/tech</td>\n",
       "      <td>[{'title': 'Ut at vel temporibus ducimus.', 'd...</td>\n",
       "      <td>5554.87</td>\n",
       "      <td>6</td>\n",
       "      <td>5888.16</td>\n",
       "      <td>[8, 9, 1]</td>\n",
       "      <td>[dolore, natus, et, sint, est, possimus, verit...</td>\n",
       "    </tr>\n",
       "    <tr>\n",
       "      <th>1</th>\n",
       "      <td>2</td>\n",
       "      <td>Eum et corrupti quos.</td>\n",
       "      <td>Quia sed beatae ut. Impedit dolor veritatis ip...</td>\n",
       "      <td>5821533640588</td>\n",
       "      <td>009581255878</td>\n",
       "      <td>http://placeimg.com/640/480/tech</td>\n",
       "      <td>[{'title': 'Quae ea dolor optio quisquam.', 'd...</td>\n",
       "      <td>1872.51</td>\n",
       "      <td>6</td>\n",
       "      <td>1984.86</td>\n",
       "      <td>[2, 6, 7, 3, 8]</td>\n",
       "      <td>[perferendis]</td>\n",
       "    </tr>\n",
       "    <tr>\n",
       "      <th>2</th>\n",
       "      <td>3</td>\n",
       "      <td>Id nostrum vitae enim.</td>\n",
       "      <td>Dolore et tempore sunt non voluptatem eos sint...</td>\n",
       "      <td>1280217857188</td>\n",
       "      <td>091876648056</td>\n",
       "      <td>http://placeimg.com/640/480/tech</td>\n",
       "      <td>[{'title': 'Ea ut itaque maiores.', 'descripti...</td>\n",
       "      <td>8777.88</td>\n",
       "      <td>6</td>\n",
       "      <td>9304.55</td>\n",
       "      <td>[1, 5, 6]</td>\n",
       "      <td>[aperiam, nulla, et, et]</td>\n",
       "    </tr>\n",
       "    <tr>\n",
       "      <th>3</th>\n",
       "      <td>4</td>\n",
       "      <td>Facilis fuga qui ex et saepe.</td>\n",
       "      <td>Omnis quibusdam veritatis excepturi illo nobis...</td>\n",
       "      <td>0635799408975</td>\n",
       "      <td>697593232502</td>\n",
       "      <td>http://placeimg.com/640/480/tech</td>\n",
       "      <td>[{'title': 'A dolores nulla magnam ut.', 'desc...</td>\n",
       "      <td>7686.53</td>\n",
       "      <td>6</td>\n",
       "      <td>8147.72</td>\n",
       "      <td>[2]</td>\n",
       "      <td>[repellendus, et, sed]</td>\n",
       "    </tr>\n",
       "  </tbody>\n",
       "</table>\n",
       "</div>"
      ],
      "text/plain": [
       "   id                           name  \\\n",
       "0   1        Rem eaque ullam itaque.   \n",
       "1   2          Eum et corrupti quos.   \n",
       "2   3         Id nostrum vitae enim.   \n",
       "3   4  Facilis fuga qui ex et saepe.   \n",
       "\n",
       "                                         description            ean  \\\n",
       "0  Quas sit eligendi nobis aut optio. At est veri...  8128201015615   \n",
       "1  Quia sed beatae ut. Impedit dolor veritatis ip...  5821533640588   \n",
       "2  Dolore et tempore sunt non voluptatem eos sint...  1280217857188   \n",
       "3  Omnis quibusdam veritatis excepturi illo nobis...  0635799408975   \n",
       "\n",
       "            upc                             image  \\\n",
       "0  454083736649  http://placeimg.com/640/480/tech   \n",
       "1  009581255878  http://placeimg.com/640/480/tech   \n",
       "2  091876648056  http://placeimg.com/640/480/tech   \n",
       "3  697593232502  http://placeimg.com/640/480/tech   \n",
       "\n",
       "                                              images  net_price taxes  \\\n",
       "0  [{'title': 'Ut at vel temporibus ducimus.', 'd...    5554.87     6   \n",
       "1  [{'title': 'Quae ea dolor optio quisquam.', 'd...    1872.51     6   \n",
       "2  [{'title': 'Ea ut itaque maiores.', 'descripti...    8777.88     6   \n",
       "3  [{'title': 'A dolores nulla magnam ut.', 'desc...    7686.53     6   \n",
       "\n",
       "     price       categories                                               tags  \n",
       "0  5888.16        [8, 9, 1]  [dolore, natus, et, sint, est, possimus, verit...  \n",
       "1  1984.86  [2, 6, 7, 3, 8]                                      [perferendis]  \n",
       "2  9304.55        [1, 5, 6]                           [aperiam, nulla, et, et]  \n",
       "3  8147.72              [2]                             [repellendus, et, sed]  "
      ]
     },
     "execution_count": 105,
     "metadata": {},
     "output_type": "execute_result"
    }
   ],
   "source": [
    "selected_rows = df.head(4)\n",
    "selected_rows"
   ]
  }
 ],
 "metadata": {
  "kernelspec": {
   "display_name": "base",
   "language": "python",
   "name": "python3"
  },
  "language_info": {
   "codemirror_mode": {
    "name": "ipython",
    "version": 3
   },
   "file_extension": ".py",
   "mimetype": "text/x-python",
   "name": "python",
   "nbconvert_exporter": "python",
   "pygments_lexer": "ipython3",
   "version": "3.9.13"
  },
  "orig_nbformat": 4
 },
 "nbformat": 4,
 "nbformat_minor": 2
}
